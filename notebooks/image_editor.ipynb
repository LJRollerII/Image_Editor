{
 "cells": [
  {
   "cell_type": "code",
   "execution_count": null,
   "id": "aa141457",
   "metadata": {},
   "outputs": [],
   "source": [
    "from PIL import Image, ImageEnhance, ImageFilter\n",
    "import os\n",
    "\n",
    "path ='./imgs'\n",
    "pathout = '/editedImgs'\n",
    "\n",
    "for filename in os.listdir(path):\n",
    "    img = Image.open(f\"{path}/{filename}\")\n",
    "    \n",
    "    edit = img.filter(ImageFilter.SHARPEN)\n",
    "    #Use .convert() to convert photos. Example: 'L' converts photo to grayscale.\n",
    "    #Use .rotate() to rotate photos. Example: -90 rotates the photo 90 degrees clockwise.\n",
    "    #Add these when you are defining edit.\n",
    "    \n",
    "    #To increase the contrast of the photo\n",
    "    factor = 1.5\n",
    "    enhancer = ImageEnhance.Contrast(edit)\n",
    "    edit = enhancer.enhance(factor)\n",
    "    \n",
    "    clean_name = os.path.splitext(filename)[0]\n",
    "    \n",
    "    edit.save(f'.{pathout}/{clean_name}_edited.jpg')\n",
    "    "
   ]
  }
 ],
 "metadata": {
  "kernelspec": {
   "display_name": "Python 3 (ipykernel)",
   "language": "python",
   "name": "python3"
  },
  "language_info": {
   "codemirror_mode": {
    "name": "ipython",
    "version": 3
   },
   "file_extension": ".py",
   "mimetype": "text/x-python",
   "name": "python",
   "nbconvert_exporter": "python",
   "pygments_lexer": "ipython3",
   "version": "3.9.7"
  }
 },
 "nbformat": 4,
 "nbformat_minor": 5
}

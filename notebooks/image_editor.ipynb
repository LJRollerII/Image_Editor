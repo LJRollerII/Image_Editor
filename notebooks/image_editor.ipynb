{
 "cells": [
  {
   "cell_type": "code",
   "execution_count": null,
   "id": "8f0bdafe",
   "metadata": {},
   "outputs": [],
   "source": [
    "from PIL import Image, ImageEnhance, ImageFilter\n",
    "import os\n",
    "\n",
    "path ='./imgs'\n",
    "pathout = '/editedImgs'\n",
    "\n",
    "for filename in os.listdir(path):\n",
    "    img = Image.open(f\"{path}/{filename}\")\n",
    "    \n",
    "    edit = img.filter(ImageFilter.SHARPEN)\n",
    "    \n",
    "    clean_name = os.path.splitext(filename)[0]\n",
    "    \n",
    "    edit.save(f'.{pathout}/{clean_name}_edited.jpg')\n",
    "    "
   ]
  },
  {
   "cell_type": "code",
   "execution_count": null,
   "id": "843329e6",
   "metadata": {},
   "outputs": [],
   "source": []
  }
 ],
 "metadata": {
  "kernelspec": {
   "display_name": "Python 3 (ipykernel)",
   "language": "python",
   "name": "python3"
  },
  "language_info": {
   "codemirror_mode": {
    "name": "ipython",
    "version": 3
   },
   "file_extension": ".py",
   "mimetype": "text/x-python",
   "name": "python",
   "nbconvert_exporter": "python",
   "pygments_lexer": "ipython3",
   "version": "3.9.7"
  }
 },
 "nbformat": 4,
 "nbformat_minor": 5
}
